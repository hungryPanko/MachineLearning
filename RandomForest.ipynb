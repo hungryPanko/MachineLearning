{
 "cells": [
  {
   "cell_type": "code",
   "execution_count": 55,
   "id": "a22f94b9",
   "metadata": {},
   "outputs": [
    {
     "name": "stdout",
     "output_type": "stream",
     "text": [
      "0.9751234226327686 [ 0.19894919  0.1075085   0.92507029 -0.27608807 -0.12992877]\n"
     ]
    }
   ],
   "source": [
    "import numpy as np\n",
    "\n",
    "def eigenvalue(A, v):\n",
    "    Av = A.dot(v)\n",
    "    return v.dot(Av)\n",
    "\n",
    "def f(A, k=100):\n",
    "    n, d = A.shape\n",
    "    v = np.ones(d) / np.sqrt(d)\n",
    "    ev = eigenvalue(A, v)\n",
    "\n",
    "    for _ in range(0,k):\n",
    "        Av = A.dot(v)\n",
    "        vector_new = Av / np.linalg.norm(Av)\n",
    "        ev_new = eigenvalue(A, vector_new)\n",
    "        v = v_new\n",
    "        ev = ev_new\n",
    "        \n",
    "    return ev_new, v_new\n",
    "\n",
    "n = 1000\n",
    "m = 5\n",
    "X = np.random.normal(0, 1, size=(n,m))\n",
    "C = 1/n*np.matmul(X.transpose(), X)\n",
    "ev_new, v_new = f(C)\n",
    "print(ev_new, v_new)"
   ]
  },
  {
   "cell_type": "code",
   "execution_count": null,
   "id": "8832f5c4",
   "metadata": {},
   "outputs": [],
   "source": []
  }
 ],
 "metadata": {
  "kernelspec": {
   "display_name": "Python 3 (ipykernel)",
   "language": "python",
   "name": "python3"
  },
  "language_info": {
   "codemirror_mode": {
    "name": "ipython",
    "version": 3
   },
   "file_extension": ".py",
   "mimetype": "text/x-python",
   "name": "python",
   "nbconvert_exporter": "python",
   "pygments_lexer": "ipython3",
   "version": "3.7.11"
  }
 },
 "nbformat": 4,
 "nbformat_minor": 5
}
