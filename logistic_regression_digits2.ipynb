{
 "cells": [
  {
   "cell_type": "code",
   "execution_count": 1,
   "metadata": {},
   "outputs": [
    {
     "name": "stdout",
     "output_type": "stream",
     "text": [
      "dict_keys(['data', 'target', 'frame', 'feature_names', 'target_names', 'images', 'DESCR'])\n"
     ]
    }
   ],
   "source": [
    "from sklearn import datasets\n",
    "digits = datasets.load_digits()\n",
    "print(digits.keys())"
   ]
  },
  {
   "cell_type": "code",
   "execution_count": 2,
   "metadata": {},
   "outputs": [
    {
     "name": "stdout",
     "output_type": "stream",
     "text": [
      "data size =  (1797, 64)\n",
      "target size =  (1797,)\n",
      ".. _digits_dataset:\n",
      "\n",
      "Optical recognition of handwritten digits dataset\n",
      "--------------------------------------------------\n",
      "\n",
      "**Data Set Characteristics:**\n",
      "\n",
      "    :Number of Instances: 1797\n",
      "    :Number of Attributes: 64\n",
      "    :Attribute Information: 8x8 image of integer pixels in the range 0..16.\n",
      "    :Missing Attribute Values: None\n",
      "    :Creator: E. Alpaydin (alpaydin '@' boun.edu.tr)\n",
      "    :Date: July; 1998\n",
      "\n",
      "This is a copy of the test set of the UCI ML hand-written digits datasets\n",
      "https://archive.ics.uci.edu/ml/datasets/Optical+Recognition+of+Handwritten+Digits\n",
      "\n",
      "The data set contains images of hand-written digits: 10 classes where\n",
      "each class refers to a digit.\n",
      "\n",
      "Preprocessing programs made available by NIST were used to extract\n",
      "normalized bitmaps of handwritten digits from a preprinted form. From a\n",
      "total of 43 people, 30 contributed to the training set and different 13\n",
      "to the test set. 32x32 bitmaps are divided into nonoverlapping blocks of\n",
      "4x4 and the number of on pixels are counted in each block. This generates\n",
      "an input matrix of 8x8 where each element is an integer in the range\n",
      "0..16. This reduces dimensionality and gives invariance to small\n",
      "distortions.\n",
      "\n",
      "For info on NIST preprocessing routines, see M. D. Garris, J. L. Blue, G.\n",
      "T. Candela, D. L. Dimmick, J. Geist, P. J. Grother, S. A. Janet, and C.\n",
      "L. Wilson, NIST Form-Based Handprint Recognition System, NISTIR 5469,\n",
      "1994.\n",
      "\n",
      ".. topic:: References\n",
      "\n",
      "  - C. Kaynak (1995) Methods of Combining Multiple Classifiers and Their\n",
      "    Applications to Handwritten Digit Recognition, MSc Thesis, Institute of\n",
      "    Graduate Studies in Science and Engineering, Bogazici University.\n",
      "  - E. Alpaydin, C. Kaynak (1998) Cascading Classifiers, Kybernetika.\n",
      "  - Ken Tang and Ponnuthurai N. Suganthan and Xi Yao and A. Kai Qin.\n",
      "    Linear dimensionalityreduction using relevance weighted LDA. School of\n",
      "    Electrical and Electronic Engineering Nanyang Technological University.\n",
      "    2005.\n",
      "  - Claudio Gentile. A New Approximate Maximal Margin Classification\n",
      "    Algorithm. NIPS. 2000.\n",
      "\n"
     ]
    }
   ],
   "source": [
    "# summary of data\n",
    "print('data size = ', digits.data.shape)\n",
    "print('target size = ', digits.target.shape)\n",
    "print(digits.DESCR)"
   ]
  },
  {
   "cell_type": "code",
   "execution_count": 3,
   "metadata": {},
   "outputs": [
    {
     "data": {
      "image/png": "[encoded data removed]",
      "text/plain": [
       "<Figure size 1440x288 with 5 Axes>"
      ]
     },
     "metadata": {
      "needs_background": "light"
     },
     "output_type": "display_data"
    }
   ],
   "source": [
    "%matplotlib inline\n",
    "import matplotlib.pyplot as plt\n",
    "import numpy as np\n",
    "\n",
    "# show examples of dataset\n",
    "plt.figure(figsize=(20,4))\n",
    "for index, (image, label) in enumerate(zip(digits.data[0:5], digits.target[0:5])):\n",
    "    plt.subplot(1, 5, index + 1)\n",
    "    plt.imshow(np.reshape(image, (8,8)), cmap=plt.cm.gray)\n",
    "    plt.title('Training: %i\\n' % label, fontsize = 20)"
   ]
  },
  {
   "cell_type": "code",
   "execution_count": 4,
   "metadata": {},
   "outputs": [
    {
     "name": "stdout",
     "output_type": "stream",
     "text": [
      "[ 0.  0.  2. 16. 10.  0.  0.  0.  0.  0.  4. 16. 16.  5.  0.  0.  0.  0.\n",
      "  8. 16. 16.  3.  0.  0.  0.  0.  9. 16. 16.  3.  0.  0.  0.  0.  8. 16.\n",
      " 16.  3.  0.  0.  0.  0.  8. 16. 16.  1.  0.  0.  0.  0.  5. 16. 14.  0.\n",
      "  0.  0.  0.  0.  1. 12. 16.  3.  0.  0.] 1\n",
      "(1347, 64)\n"
     ]
    }
   ],
   "source": [
    "# train-test split\n",
    "from sklearn.model_selection import train_test_split\n",
    "X_train, X_test, y_train, y_test = train_test_split(digits.data, digits.target, test_size=0.25, random_state=8)\n",
    "print(X_train[256], y_train[256])\n",
    "print(X_train.shape)"
   ]
  },
  {
   "cell_type": "code",
   "execution_count": 5,
   "metadata": {},
   "outputs": [],
   "source": [
    "import math\n",
    "from numpy import inf\n",
    "# 3.2 batch gradient descent (GD) for Logistic regression\n",
    "def LogisticRegression_GD(X_train, y_train, learning_rate):\n",
    "    STEP_NUMBER = 1000\n",
    "    REG_PARAM = 0.1\n",
    "    #print(\"------- Init --------\")\n",
    "    # y: One-hot coding\n",
    "    y = (np.arange(np.max(y_train) + 1) == y_train[:, None]).astype(float)\n",
    "    n_class = y.shape[1]\n",
    "    n_features = X_train.shape[1]\n",
    "    n_train = X_train.shape[0]\n",
    "    print(\"y_train shape\", y_train.shape)\n",
    "    print(\"y shape after one hot coding\", y.shape)\n",
    "    #print(\"X_train shape: \", X_train.shape) # 64 features\n",
    "\n",
    "    # Weight: size --> number of feature * number of class\n",
    "    W = np.zeros(shape=(n_features,n_class))\n",
    "    #print(\"wieght shape\", W.shape)\n",
    "    \n",
    "    # bias : size 1*(number of class)\n",
    "    b = [0.01 for _ in range(n_class)]\n",
    "    \n",
    "    # Z = WX + b: number of trainng * number of class\n",
    "    Z = X_train.dot(W) + b\n",
    "    #print(\"Z shape\", Z.shape)\n",
    "    \n",
    "    # Softmax Z' = Z-maxZ(inClass), size: number of trainng * number of class\n",
    "    Z_prime = Z - np.amax(Z, axis=1).reshape(n_train,1)\n",
    "    #print(\"Z_prime shape\",Z_prime.shape)\n",
    "    \n",
    "    # softmax = e^z/ sum of each class e^z\n",
    "    softmax = (np.exp(Z_prime.T) / np.sum(np.exp(Z_prime), axis=1)).T\n",
    "    #print(\"softmax shape\",softmax.shape)\n",
    "    \n",
    "    # Cross entryophy\n",
    "    cross_entrophy = -1*np.sum(np.log(softmax) * (y), axis=1)\n",
    "    #print(\"cross_entrophy shape\", cross_entrophy.shape)\n",
    "    \n",
    "    #Cost \n",
    "    loss = np.mean(cross_entrophy)\n",
    "    #print(\"cost :\",loss)\n",
    "    \n",
    "    #Classified Z\n",
    "    pred_class = Z_prime.argmax(axis=1)\n",
    "    \n",
    "    #print(\"------- Gradient Descent --------\")\n",
    "    loss_list = []\n",
    "    e = 100\n",
    "    n_iter =0\n",
    "    while( (e>1.0e-4) and (n_iter<STEP_NUMBER)): \n",
    "    #while((e>1.0e-2) and (n_iter<STEP_NUMBER)): # Converge is too slow so modified to 10e-2\n",
    "        #n_iter += 1\n",
    "        # W_derivative = 1/n * Singma( Xi*(Output - target))\n",
    "        W_derivative = np.ones(shape=W.shape)\n",
    "        X = np.ones(shape=X_train.shape)\n",
    "        diff = softmax-y\n",
    "        for i in range(n_class):\n",
    "            for j in range(n_train):\n",
    "                X[j,:] = X_train[j,:].dot(diff[j][i])\n",
    "                W_derivative[:,i] = np.sum(X, axis=0)       \n",
    "        #W = W-W_derivative*(learning_rate) # Vanila\n",
    "        W = W*(1-learning_rate*REG_PARAM/n_train)-W_derivative*(learning_rate) #Reg\n",
    "         \n",
    "            \n",
    "        # b <= bj - learingRate*(1/n*Singma(softmax-target))\n",
    "        b_derivative = (1/n_train)*np.sum(diff, axis=0)\n",
    "        b = b - learning_rate*b_derivative\n",
    "        #print(b)\n",
    "        \n",
    "        # Z = WX + b: number of trainng * number of class\n",
    "        Z = X_train.dot(W) + b\n",
    "        # Softmax Z' = Z-maxZ(inClass), size: number of trainng * number of class\n",
    "        Z_prime = Z - np.amax(Z, axis=1).reshape(n_train,1)\n",
    "        # softmax = e^z/ sum of each class e^z\n",
    "        softmax = (np.exp(Z_prime.T) / np.sum(np.exp(Z_prime), axis=1)).T\n",
    "        \n",
    "        #loss\n",
    "        #cross_entrophy = -1*np.sum( np.log(softmax)*(y), axis=1)\n",
    "        #loss_per_train = np.zeros(shape=(n_train,1))\n",
    "        loss_per_train = np.full((n_train,1), np.inf)\n",
    "        for i in range(n_train):\n",
    "            #loss_per_train[i] = -1*(np.log(softmax))[i,:].dot(y[i,:].T)\n",
    "            index_one = (np.where(y[i,:] == 1))[0]\n",
    "            loss_per_train[i] = -1*np.log(softmax)[i][index_one]\n",
    "            loss_per_train[loss_per_train == inf] = 9223372036854775806\n",
    "        #loss = np.mean(loss_per_train) # Vanila\n",
    "        loss = np.mean(loss_per_train) + 0.5*REG_PARAM*np.sum(np.square(W)) #Reg\n",
    "        loss_list.append(loss)\n",
    "        if np.size(loss_list) > 2:\n",
    "            e = abs(loss_list[-1]-loss_list[-2])\n",
    "        \n",
    "    #Classified Z\n",
    "    pred_class = Z_prime.argmax(axis=1)\n",
    "    \n",
    "    return W, b, loss_list\n",
    "    "
   ]
  },
  {
   "cell_type": "code",
   "execution_count": null,
   "metadata": {},
   "outputs": [],
   "source": []
  },
  {
   "cell_type": "code",
   "execution_count": 6,
   "metadata": {},
   "outputs": [
    {
     "name": "stdout",
     "output_type": "stream",
     "text": [
      "Problem4-b\n",
      "---------------------------------------\n",
      "learning rate = 0.05\n",
      "y_train shape (1347,)\n",
      "y shape after one hot coding (1347, 10)\n"
     ]
    },
    {
     "name": "stderr",
     "output_type": "stream",
     "text": [
      "/Users/Hanna/opt/anaconda3/envs/myenv_python3/lib/python3.7/site-packages/ipykernel_launcher.py:85: RuntimeWarning: divide by zero encountered in log\n"
     ]
    },
    {
     "ename": "KeyboardInterrupt",
     "evalue": "",
     "output_type": "error",
     "traceback": [
      "\u001b[0;31m---------------------------------------------------------------------------\u001b[0m",
      "\u001b[0;31mKeyboardInterrupt\u001b[0m                         Traceback (most recent call last)",
      "\u001b[0;32m/var/folders/2z/3blmntm56pg9p3rjgdyzk4q00000gn/T/ipykernel_38425/4170346597.py\u001b[0m in \u001b[0;36m<module>\u001b[0;34m\u001b[0m\n\u001b[1;32m      9\u001b[0m     \u001b[0mprint\u001b[0m\u001b[0;34m(\u001b[0m\u001b[0;34m'---------------------------------------'\u001b[0m\u001b[0;34m)\u001b[0m\u001b[0;34m\u001b[0m\u001b[0;34m\u001b[0m\u001b[0m\n\u001b[1;32m     10\u001b[0m     \u001b[0mprint\u001b[0m\u001b[0;34m(\u001b[0m\u001b[0;34m\"learning rate =\"\u001b[0m\u001b[0;34m,\u001b[0m \u001b[0mlearning_rate\u001b[0m\u001b[0;34m[\u001b[0m\u001b[0mi\u001b[0m\u001b[0;34m]\u001b[0m\u001b[0;34m)\u001b[0m\u001b[0;34m\u001b[0m\u001b[0;34m\u001b[0m\u001b[0m\n\u001b[0;32m---> 11\u001b[0;31m     \u001b[0mW\u001b[0m\u001b[0;34m,\u001b[0m \u001b[0mb\u001b[0m\u001b[0;34m,\u001b[0m \u001b[0mloss_GD\u001b[0m \u001b[0;34m=\u001b[0m \u001b[0mLogisticRegression_GD\u001b[0m\u001b[0;34m(\u001b[0m\u001b[0mX_train\u001b[0m\u001b[0;34m,\u001b[0m \u001b[0my_train\u001b[0m\u001b[0;34m,\u001b[0m \u001b[0mlearning_rate\u001b[0m\u001b[0;34m[\u001b[0m\u001b[0mi\u001b[0m\u001b[0;34m]\u001b[0m\u001b[0;34m)\u001b[0m\u001b[0;34m\u001b[0m\u001b[0;34m\u001b[0m\u001b[0m\n\u001b[0m\u001b[1;32m     12\u001b[0m \u001b[0;34m\u001b[0m\u001b[0m\n\u001b[1;32m     13\u001b[0m     \u001b[0;31m#TODO\u001b[0m\u001b[0;34m\u001b[0m\u001b[0;34m\u001b[0m\u001b[0;34m\u001b[0m\u001b[0m\n",
      "\u001b[0;32m/var/folders/2z/3blmntm56pg9p3rjgdyzk4q00000gn/T/ipykernel_38425/199249033.py\u001b[0m in \u001b[0;36mLogisticRegression_GD\u001b[0;34m(X_train, y_train, learning_rate)\u001b[0m\n\u001b[1;32m     58\u001b[0m         \u001b[0;32mfor\u001b[0m \u001b[0mi\u001b[0m \u001b[0;32min\u001b[0m \u001b[0mrange\u001b[0m\u001b[0;34m(\u001b[0m\u001b[0mn_class\u001b[0m\u001b[0;34m)\u001b[0m\u001b[0;34m:\u001b[0m\u001b[0;34m\u001b[0m\u001b[0;34m\u001b[0m\u001b[0m\n\u001b[1;32m     59\u001b[0m             \u001b[0;32mfor\u001b[0m \u001b[0mj\u001b[0m \u001b[0;32min\u001b[0m \u001b[0mrange\u001b[0m\u001b[0;34m(\u001b[0m\u001b[0mn_train\u001b[0m\u001b[0;34m)\u001b[0m\u001b[0;34m:\u001b[0m\u001b[0;34m\u001b[0m\u001b[0;34m\u001b[0m\u001b[0m\n\u001b[0;32m---> 60\u001b[0;31m                 \u001b[0mX\u001b[0m\u001b[0;34m[\u001b[0m\u001b[0mj\u001b[0m\u001b[0;34m,\u001b[0m\u001b[0;34m:\u001b[0m\u001b[0;34m]\u001b[0m \u001b[0;34m=\u001b[0m \u001b[0mX_train\u001b[0m\u001b[0;34m[\u001b[0m\u001b[0mj\u001b[0m\u001b[0;34m,\u001b[0m\u001b[0;34m:\u001b[0m\u001b[0;34m]\u001b[0m\u001b[0;34m.\u001b[0m\u001b[0mdot\u001b[0m\u001b[0;34m(\u001b[0m\u001b[0mdiff\u001b[0m\u001b[0;34m[\u001b[0m\u001b[0mj\u001b[0m\u001b[0;34m]\u001b[0m\u001b[0;34m[\u001b[0m\u001b[0mi\u001b[0m\u001b[0;34m]\u001b[0m\u001b[0;34m)\u001b[0m\u001b[0;34m\u001b[0m\u001b[0;34m\u001b[0m\u001b[0m\n\u001b[0m\u001b[1;32m     61\u001b[0m                 \u001b[0mW_derivative\u001b[0m\u001b[0;34m[\u001b[0m\u001b[0;34m:\u001b[0m\u001b[0;34m,\u001b[0m\u001b[0mi\u001b[0m\u001b[0;34m]\u001b[0m \u001b[0;34m=\u001b[0m \u001b[0mnp\u001b[0m\u001b[0;34m.\u001b[0m\u001b[0msum\u001b[0m\u001b[0;34m(\u001b[0m\u001b[0mX\u001b[0m\u001b[0;34m,\u001b[0m \u001b[0maxis\u001b[0m\u001b[0;34m=\u001b[0m\u001b[0;36m0\u001b[0m\u001b[0;34m)\u001b[0m\u001b[0;34m\u001b[0m\u001b[0;34m\u001b[0m\u001b[0m\n\u001b[1;32m     62\u001b[0m         \u001b[0;31m#W = W-W_derivative*(learning_rate) # Vanila\u001b[0m\u001b[0;34m\u001b[0m\u001b[0;34m\u001b[0m\u001b[0;34m\u001b[0m\u001b[0m\n",
      "\u001b[0;31mKeyboardInterrupt\u001b[0m: "
     ]
    },
    {
     "data": {
      "image/png": "[encoded data removed]",
      "text/plain": [
       "<Figure size 720x576 with 1 Axes>"
      ]
     },
     "metadata": {
      "needs_background": "light"
     },
     "output_type": "display_data"
    }
   ],
   "source": [
    "# evaluation of different learning rate\n",
    "learning_rate = [5.0e-2, 5.0e-3, 1.0e-2]\n",
    "#learning_rate = [5.0e-2]\n",
    "cl = ['darkgreen', 'cyan', 'red']\n",
    "fig, ax = plt.subplots(figsize=(10, 8))\n",
    "print(\"Problem4-b\")\n",
    "for i in range(len(learning_rate)):\n",
    "    \n",
    "    print('---------------------------------------')\n",
    "    print(\"learning rate =\", learning_rate[i])\n",
    "    W, b, loss_GD = LogisticRegression_GD(X_train, y_train, learning_rate[i])\n",
    "    \n",
    "    #TODO\n",
    "    Z_train = X_train.dot(W) + b # Z = WX + b:\n",
    "    pred_train = Z_train.argmax(axis=1) #Classified Z\n",
    "    acc_train = (pred_train == y_train).sum() / X_train.shape[0]\n",
    "    print(\"training precision =\", acc_train)\n",
    "\n",
    "    #TODO\n",
    "    Z_test = X_test.dot(W) + b # Z = WX + b:\n",
    "    pred_test = Z_test.argmax(axis=1) #Classified Z\n",
    "    acc_test = (pred_test == y_test).sum() / X_test.shape[0]\n",
    "    print(\"test precision =\", acc_test)\n",
    "    print(\"number of iteration: \",np.size(loss_GD))\n",
    "    \n",
    "    plt.plot(loss_GD, c=cl[i], ls='-', marker='o', label='batch gradient descent (lr=' + str(learning_rate[i]) + ')')\n",
    "\n",
    "plt.grid()\n",
    "plt.legend()\n",
    "plt.xlabel('iteration')\n",
    "plt.ylabel('loss')\n",
    "\n",
    "print(\"Problem4-c\")\n",
    "print(\"Q)Compare the convergence curves: What are the pro and cons or large and small rates?\")\n",
    "print(\" --> Small rate: takes longer time to converge but cost error became really small finding the optimal solution\")\n",
    "print(\" --> Large rate: Fast converge, but has possibility to overshooting. It might be near the optimal solution but it might never get to the optimal point hoovering near the point.\")"
   ]
  },
  {
   "cell_type": "code",
   "execution_count": 7,
   "metadata": {},
   "outputs": [],
   "source": [
    "# 3.3 stochastic gradient descent (SGD) for Logistic regression\n",
    "#def LogisticRegression_SGD(X, y, batch_size, lr=1.0e-2, eta=2.0e-1, eps = 1.0e-4, max_epoch=500):\n",
    "def LogisticRegression_SGD(X_train, y_train, batch_size, learning_rate=1.0e-2, eta=2.0e-1, eps = 1.0e-4, max_epoch=500):\n",
    "\n",
    "    #TODO: initialization\n",
    "    notstop = True\n",
    "    epoch = 0\n",
    "    REG_PARAM = 0.1\n",
    "    \n",
    "    y = (np.arange(np.max(y_train) + 1) == y_train[:, None]).astype(float)\n",
    "    n_class = y.shape[1]\n",
    "    n_features = X_train.shape[1]\n",
    "    n_train = X_train.shape[0]\n",
    "\n",
    "    # Weight: size --> number of feature * number of class\n",
    "    W = np.zeros(shape=(n_features,n_class))\n",
    "    \n",
    "    # bias : size 1*(number of class)\n",
    "    b = [0.01 for _ in range(n_class)]\n",
    "    \n",
    "    # Z = WX + b: number of trainng * number of class\n",
    "    Z = X_train.dot(W) + b\n",
    "    \n",
    "    # Softmax Z' = Z-maxZ(inClass), size: number of trainng * number of class\n",
    "    Z_prime = Z - np.amax(Z, axis=1).reshape(n_train,1)\n",
    "    \n",
    "    # softmax = e^z/ sum of each class e^z\n",
    "    softmax = (np.exp(Z_prime.T) / np.sum(np.exp(Z_prime), axis=1)).T\n",
    "    \n",
    "    # Cross entryophy\n",
    "    cross_entrophy = -1*np.sum(np.log(softmax) * (y), axis=1)\n",
    "    \n",
    "    #Cost \n",
    "    loss = np.mean(cross_entrophy)\n",
    "    \n",
    "    #Classified Z\n",
    "    pred_class = Z_prime.argmax(axis=1)\n",
    "    \n",
    "    #print(\"------- Gradient Descent --------\")\n",
    "    loss_list = []\n",
    "    e = 100\n",
    "    n_iter =0\n",
    "    \n",
    "    # optimization loop\t\n",
    "    while notstop and epoch < max_epoch:        \n",
    "        #TODO: SGD of each epoch\n",
    "        \n",
    "        # Number of mini-batch\n",
    "        n_batch = math.floor(n_train/batch_size)\n",
    "        \n",
    "        # W_derivative = 1/n * Singma( Xi*(Output - target))\n",
    "        W_derivative = np.ones(shape=W.shape)\n",
    "        X = np.ones(shape=X_train.shape)\n",
    "        diff = softmax-y\n",
    "        for k in range(n_batch):\n",
    "            for i in range(n_class):\n",
    "                for j in range(batch_size):\n",
    "                    X[k*j,:] = X_train[k*j,:].dot(diff[k*j][i]) # update batch size W\n",
    "                    W_derivative[:,i] = np.sum(X, axis=0)       \n",
    "        #W = W-W_derivative*(learning_rate) # Vanila\n",
    "        W = W*(1-learning_rate*REG_PARAM/n_train)-W_derivative*(learning_rate) #Reg\n",
    "        \n",
    "        # b <= bj - learingRate*(1/n*Singma(softmax-target))\n",
    "        b_derivative = (1/n_train)*np.sum(diff, axis=0)\n",
    "        b = b - learning_rate*b_derivative\n",
    "        #print(b)\n",
    "        \n",
    "        # Z = WX + b: number of trainng * number of class\n",
    "        Z = X_train.dot(W) + b\n",
    "        # Softmax Z' = Z-maxZ(inClass), size: number of trainng * number of class\n",
    "        Z_prime = Z - np.amax(Z, axis=1).reshape(n_train,1)\n",
    "        # softmax = e^z/ sum of each class e^z\n",
    "        softmax = (np.exp(Z_prime.T) / np.sum(np.exp(Z_prime), axis=1)).T\n",
    "        \n",
    "        \n",
    "        #loss\n",
    "        loss_per_train = np.full((n_train,1), np.inf)\n",
    "        for i in range(n_train):\n",
    "            #loss_per_train[i] = -1*(np.log(softmax))[i,:].dot(y[i,:].T)\n",
    "            index_one = (np.where(y[i,:] == 1))[0]\n",
    "            loss_per_train[i] = -1*np.log(softmax)[i][index_one]\n",
    "            loss_per_train[loss_per_train == inf] = 9223372036854775806\n",
    "        #loss = np.mean(loss_per_train) # Vanila\n",
    "        loss = np.mean(loss_per_train) + 0.5*REG_PARAM*np.sum(np.square(W)) #Reg\n",
    "        loss_list.append(loss)\n",
    "        if np.size(loss_list) > 2:\n",
    "            e = abs(loss_list[-1]-loss_list[-2])\n",
    "        \n",
    "        # half lr if not improving in 10 epochs\n",
    "        if epoch > 10:\n",
    "            if loss_list[epoch - 10] <= loss_list[epoch] - eps:\n",
    "                learning_rate *= 0.5\n",
    "                print(\"reduce learning rate to\", learning_rate)\n",
    "        \n",
    "        # stop if not improving in 20 epochs\n",
    "        if epoch > 20:\n",
    "            if loss_list[epoch - 20] <= loss_list[epoch] - eps or abs(loss_list[epoch] - loss_list[epoch-1]) <= eps:                \n",
    "                notstop = False\n",
    "                break\n",
    "        \n",
    "        epoch += 1\n",
    "\n",
    "    return (W, b, loss_list)"
   ]
  },
  {
   "cell_type": "code",
   "execution_count": 8,
   "metadata": {},
   "outputs": [
    {
     "name": "stdout",
     "output_type": "stream",
     "text": [
      "Problem4-d\n",
      " case1) When the same initial learing rate is used\n",
      "---------------------------------------\n",
      "batch_size = 10\n",
      "reduce learning rate to 0.005\n",
      "reduce learning rate to 0.0025\n",
      "reduce learning rate to 0.00125\n",
      "reduce learning rate to 0.000625\n",
      "reduce learning rate to 0.0003125\n",
      "reduce learning rate to 0.00015625\n",
      "reduce learning rate to 7.8125e-05\n",
      "reduce learning rate to 3.90625e-05\n",
      "reduce learning rate to 1.953125e-05\n",
      "reduce learning rate to 9.765625e-06\n",
      "reduce learning rate to 4.8828125e-06\n",
      "training precision = 0.4647364513734224\n",
      "test precision = 0.47333333333333333\n",
      "number of iteration:  22\n",
      "---------------------------------------\n",
      "batch_size = 50\n"
     ]
    },
    {
     "name": "stderr",
     "output_type": "stream",
     "text": [
      "/Users/Hanna/opt/anaconda3/envs/myenv_python3/lib/python3.7/site-packages/ipykernel_launcher.py:81: RuntimeWarning: divide by zero encountered in log\n"
     ]
    },
    {
     "name": "stdout",
     "output_type": "stream",
     "text": [
      "reduce learning rate to 0.005\n",
      "reduce learning rate to 0.0025\n",
      "reduce learning rate to 0.00125\n",
      "reduce learning rate to 0.000625\n",
      "reduce learning rate to 0.0003125\n",
      "reduce learning rate to 0.00015625\n",
      "reduce learning rate to 7.8125e-05\n",
      "reduce learning rate to 3.90625e-05\n",
      "reduce learning rate to 1.953125e-05\n",
      "reduce learning rate to 9.765625e-06\n",
      "reduce learning rate to 4.8828125e-06\n",
      "training precision = 0.7861915367483296\n",
      "test precision = 0.7822222222222223\n",
      "number of iteration:  27\n",
      "---------------------------------------\n",
      "batch_size = 100\n",
      "reduce learning rate to 0.005\n",
      "reduce learning rate to 0.0025\n",
      "reduce learning rate to 0.00125\n",
      "reduce learning rate to 0.000625\n",
      "reduce learning rate to 0.0003125\n",
      "reduce learning rate to 0.00015625\n",
      "reduce learning rate to 7.8125e-05\n",
      "reduce learning rate to 3.90625e-05\n",
      "reduce learning rate to 1.953125e-05\n",
      "reduce learning rate to 9.765625e-06\n",
      "reduce learning rate to 4.8828125e-06\n",
      "training precision = 0.8834446919079436\n",
      "test precision = 0.8822222222222222\n",
      "number of iteration:  31\n"
     ]
    },
    {
     "data": {
      "text/plain": [
       "Text(0, 0.5, 'loss')"
      ]
     },
     "execution_count": 8,
     "metadata": {},
     "output_type": "execute_result"
    },
    {
     "data": {
      "image/png": "[encoded data removed]",
      "text/plain": [
       "<Figure size 720x576 with 1 Axes>"
      ]
     },
     "metadata": {
      "needs_background": "light"
     },
     "output_type": "display_data"
    }
   ],
   "source": [
    "# evaluation of different batch size\n",
    "bs = [10, 50, 100]\n",
    "cl = ['green', 'blue', 'orange']\n",
    "# TODO: different learning rate for different batch size\n",
    "lr = [1.0e-2, 1.0e-2, 1.0e-2]\n",
    "fig, ax = plt.subplots(figsize=(10, 8))\n",
    "\n",
    "print(\"Problem4-d\")\n",
    "print(\" case1) When the same initial learing rate is used\")\n",
    "for i in range(len(bs)):\n",
    "    print(\"---------------------------------------\")\n",
    "    print(\"batch_size =\", bs[i])\n",
    "    W, b, loss_SGD = LogisticRegression_SGD(X_train, y_train, bs[i], lr[i], eta = 2.0e-1, eps = 1.0e-4, max_epoch = 500)\n",
    "  \n",
    "    #TODO\n",
    "    Z_train = X_train.dot(W) + b # Z = WX + b:\n",
    "    pred_train = Z_train.argmax(axis=1) #Classified Z\n",
    "    acc_train = (pred_train == y_train).sum() / X_train.shape[0]\n",
    "    print(\"training precision =\", acc_train)\n",
    "\n",
    "    #TODO\n",
    "    Z_test = X_test.dot(W) + b # Z = WX + b:\n",
    "    pred_test = Z_test.argmax(axis=1) #Classified Z\n",
    "    acc_test = (pred_test == y_test).sum() / X_test.shape[0]\n",
    "    print(\"test precision =\", acc_test)\n",
    "    print(\"number of iteration: \",np.size(loss_SGD))\n",
    "    \n",
    "    plt.plot(loss_SGD, c = cl[i], ls='-', marker='o', label='stochastic gradient descent (batch_size = ' + str(bs[i]) + ')')\n",
    "\n",
    "plt.grid()\n",
    "plt.legend()\n",
    "plt.xlabel('epoch')\n",
    "plt.ylabel('loss')\n",
    "\n"
   ]
  },
  {
   "cell_type": "code",
   "execution_count": 10,
   "metadata": {},
   "outputs": [
    {
     "name": "stdout",
     "output_type": "stream",
     "text": [
      " case2) When the tuned learing rate is used\n",
      "---------------------------------------\n",
      "batch_size = 10\n",
      "reduce learning rate to 0.005\n",
      "reduce learning rate to 0.0025\n",
      "reduce learning rate to 0.00125\n",
      "reduce learning rate to 0.000625\n",
      "reduce learning rate to 0.0003125\n",
      "reduce learning rate to 0.00015625\n",
      "reduce learning rate to 7.8125e-05\n",
      "reduce learning rate to 3.90625e-05\n",
      "reduce learning rate to 1.953125e-05\n",
      "reduce learning rate to 9.765625e-06\n",
      "reduce learning rate to 4.8828125e-06\n",
      "training precision = 0.4647364513734224\n",
      "test precision = 0.47333333333333333\n",
      "number of iteration:  22\n",
      "---------------------------------------\n",
      "batch_size = 50\n"
     ]
    },
    {
     "name": "stderr",
     "output_type": "stream",
     "text": [
      "/Users/Hanna/opt/anaconda3/envs/myenv_python3/lib/python3.7/site-packages/ipykernel_launcher.py:81: RuntimeWarning: divide by zero encountered in log\n"
     ]
    },
    {
     "name": "stdout",
     "output_type": "stream",
     "text": [
      "reduce learning rate to 0.025\n",
      "reduce learning rate to 0.0125\n",
      "reduce learning rate to 0.00625\n",
      "reduce learning rate to 0.003125\n",
      "reduce learning rate to 0.0015625\n",
      "reduce learning rate to 0.00078125\n",
      "reduce learning rate to 0.000390625\n",
      "reduce learning rate to 0.0001953125\n",
      "reduce learning rate to 9.765625e-05\n",
      "reduce learning rate to 4.8828125e-05\n",
      "reduce learning rate to 2.44140625e-05\n",
      "training precision = 0.8032665181885672\n",
      "test precision = 0.8066666666666666\n",
      "number of iteration:  32\n",
      "---------------------------------------\n",
      "batch_size = 100\n",
      "reduce learning rate to 0.05\n",
      "reduce learning rate to 0.025\n",
      "reduce learning rate to 0.0125\n",
      "reduce learning rate to 0.00625\n",
      "reduce learning rate to 0.003125\n",
      "reduce learning rate to 0.0015625\n",
      "reduce learning rate to 0.00078125\n",
      "reduce learning rate to 0.000390625\n",
      "reduce learning rate to 0.0001953125\n",
      "reduce learning rate to 9.765625e-05\n",
      "reduce learning rate to 4.8828125e-05\n",
      "training precision = 0.8878990348923533\n",
      "test precision = 0.8733333333333333\n",
      "number of iteration:  38\n",
      "Problem4-e\n",
      "Q) Compare the convergence curve\n",
      " --> The same learning rate for difference batch size shows slow convergance compared to the tuned learning rate\n",
      "Q) Some mathmatical explanation\n",
      " --> If batch size is small, it takes baby step on gredient descent. It is disoriented someitmes but it found the global minima in the long run. Since it takes baby step it would be better to use small learning rate.\n",
      " --> If batch size is large, it might be similar to batch in terms of size of step but little step with disoriented sometimes. Since it is little bit better orientation toward global minima for each batch, it it is safe to use larger learning rate\n",
      " --> In both case, reducing learning rate near the optimal point is good idea, since it slow down to find the that point\n",
      "Q) What learning rate yielded the overall fastest convergence in terms of wall clock time? \n",
      " --> Bigger learning rate yielded the overall fastest convergence, but too big learning rate is risky becuase of possibility of oevershooting\n"
     ]
    },
    {
     "data": {
      "image/png": "[encoded data removed]",
      "text/plain": [
       "<Figure size 720x576 with 1 Axes>"
      ]
     },
     "metadata": {
      "needs_background": "light"
     },
     "output_type": "display_data"
    }
   ],
   "source": [
    "# evaluation of different batch size\n",
    "bs = [10, 50, 100]\n",
    "cl = ['green', 'blue', 'orange']\n",
    "# TODO: different learning rate for different batch size\n",
    "lr = [1.0e-2, 1.0e-2*5, 1.0e-2*10]\n",
    "fig, ax = plt.subplots(figsize=(10, 8))\n",
    "\n",
    "print(\" case2) When the tuned learing rate is used\")\n",
    "for i in range(len(bs)):\n",
    "    print(\"---------------------------------------\")\n",
    "    print(\"batch_size =\", bs[i])\n",
    "    W, b, loss_SGD = LogisticRegression_SGD(X_train, y_train, bs[i], lr[i], eta = 2.0e-1, eps = 1.0e-4, max_epoch = 500)\n",
    "  \n",
    "    #TODO\n",
    "    Z_train = X_train.dot(W) + b # Z = WX + b:\n",
    "    pred_train = Z_train.argmax(axis=1) #Classified Z\n",
    "    acc_train = (pred_train == y_train).sum() / X_train.shape[0]\n",
    "    print(\"training precision =\", acc_train)\n",
    "\n",
    "    #TODO\n",
    "    Z_test = X_test.dot(W) + b # Z = WX + b:\n",
    "    pred_test = Z_test.argmax(axis=1) #Classified Z\n",
    "    acc_test = (pred_test == y_test).sum() / X_test.shape[0]\n",
    "    print(\"test precision =\", acc_test)\n",
    "    print(\"number of iteration: \",np.size(loss_SGD))\n",
    "    \n",
    "    plt.plot(loss_SGD, c = cl[i], ls='-', marker='o', label='stochastic gradient descent (batch_size = ' + str(bs[i]) + ')')\n",
    "\n",
    "plt.grid()\n",
    "plt.legend()\n",
    "plt.xlabel('epoch')\n",
    "plt.ylabel('loss')\n",
    "\n",
    "print(\"Problem4-e\")\n",
    "print(\"Q) Compare the convergence curve\")\n",
    "print(\" --> The same learning rate for difference batch size shows slow convergance compared to the tuned learning rate\")\n",
    "print(\"Q) Some mathmatical explanation\")\n",
    "print(\" --> If batch size is small, it takes baby step on gredient descent. It is disoriented someitmes but it found the global minima in the long run. Since it takes baby step it would be better to use small learning rate.\")\n",
    "print(\" --> If batch size is large, it might be similar to batch in terms of size of step but little step with disoriented sometimes. Since it is little bit better orientation toward global minima for each batch, it it is safe to use larger learning rate\")\n",
    "print(\" --> In both case, reducing learning rate near the optimal point is good idea, since it slow down to find the that point\")\n",
    "print(\"Q) What learning rate yielded the overall fastest convergence in terms of wall clock time? \")\n",
    "print(\" --> Bigger learning rate yielded the overall fastest convergence, but too big learning rate is risky becuase of possibility of oevershooting\")\n",
    "\n"
   ]
  },
  {
   "cell_type": "code",
   "execution_count": null,
   "metadata": {},
   "outputs": [],
   "source": []
  }
 ],
 "metadata": {
  "anaconda-cloud": {},
  "kernelspec": {
   "display_name": "Python 3 (ipykernel)",
   "language": "python",
   "name": "python3"
  },
  "language_info": {
   "codemirror_mode": {
    "name": "ipython",
    "version": 3
   },
   "file_extension": ".py",
   "mimetype": "text/x-python",
   "name": "python",
   "nbconvert_exporter": "python",
   "pygments_lexer": "ipython3",
   "version": "3.7.11"
  }
 },
 "nbformat": 4,
 "nbformat_minor": 1
}
