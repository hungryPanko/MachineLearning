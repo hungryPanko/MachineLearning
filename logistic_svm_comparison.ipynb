{
 "cells": [
  {
   "cell_type": "markdown",
   "metadata": {
    "id": "C2wPbliH0ADO"
   },
   "source": [
    "# Programming Problem: Model Comparison among Logistic Regression, Linear SVM and Gaussian Kernel SVM \n",
    "\n",
    "In this problem, you are expected to implement and compare three models: (1) logistic regression, (2) a linear SVM, (3) a Gaussian kernel SVM. In this assignment, you are allowed to use the sklearn packages.\n",
    "\n",
    "**Data**: we provide binary classification dataset camel_train.cvs and camel_test.cvs for training and testing respectively (these files are both in hw3_data_files.zip). The model is trained on training set, you are supposed to report accuracy both on the training set and on the test set. Each sample consists of input features $x^{(i)} \\in \\mathbb{R}^2$ and class lables $y^{(i)} \\in \\{-1, 1\\}$. Note that here the labels are $\\{-1,+1\\}$ valued rather than $\\{0,1\\}$ valued for convenience.\n",
    "\n",
    "**Problem (a) [5 points]** Visualize the training data in 2D space in Sec 1.1 and estimate or guess based on visualization which classifier you think will be most suitable for the dataset, and explain why. Write down this estimation {\\bf before} you start your implementation and testing, and this is what you'll also turn in. Note that you will not be penalized for getting the wrong answer here, the main thing we would like to see is your prediction and your clear justification why. \n",
    "\n",
    "**Problem (b) [10 points]** Implement a function in Sec 1.2 that can learn the Logistic Regression, Linear SVM, Gaussian kernel SVM models by setting the appropriate model type.\n",
    "\n",
    "**Problem (e) [5 points]** Report the accuracy of each model and explain why one method is superior to the others (that is, fill in Sec 1.3).\n",
    "\n",
    "**Problem (c) [5 points]** Discuss how the decision boundary of each model looks like in 2D space and why. Please be very clear and precise in your discussion. \n",
    "\n",
    "**Problem (d) [10 points]** Fill in the code to visualize the decision boundary of the learned model in Sec 1.4. Do they follow your assumptions and guesses above? If so, explain why the experiment confirmed your hypothesis. If the models did not behave consistently with your expectations explain why, and most importantly, explain how your hypotheses were adjusted and critically what you learned from this experiment.\n",
    "\n",
    "\n",
    "\n",
    "\n"
   ]
  },
  {
   "cell_type": "code",
   "execution_count": 1,
   "metadata": {
    "executionInfo": {
     "elapsed": 900,
     "status": "ok",
     "timestamp": 1643410495206,
     "user": {
      "displayName": "Jingyuan Li",
      "photoUrl": "https://lh3.googleusercontent.com/a/default-user=s64",
      "userId": "02077201049751083691"
     },
     "user_tz": 480
    },
    "id": "efPhOaGslI5b"
   },
   "outputs": [],
   "source": [
    "# Import Modules\n",
    "import sklearn\n",
    "import pandas as pd\n",
    "import numpy as np\n",
    "from sklearn import datasets\n",
    "import matplotlib.pyplot as plt"
   ]
  },
  {
   "cell_type": "code",
   "execution_count": 2,
   "metadata": {
    "id": "0RLdikur5mMy"
   },
   "outputs": [
    {
     "data": {
      "text/html": [
       "<div>\n",
       "<style scoped>\n",
       "    .dataframe tbody tr th:only-of-type {\n",
       "        vertical-align: middle;\n",
       "    }\n",
       "\n",
       "    .dataframe tbody tr th {\n",
       "        vertical-align: top;\n",
       "    }\n",
       "\n",
       "    .dataframe thead th {\n",
       "        text-align: right;\n",
       "    }\n",
       "</style>\n",
       "<table border=\"1\" class=\"dataframe\">\n",
       "  <thead>\n",
       "    <tr style=\"text-align: right;\">\n",
       "      <th></th>\n",
       "      <th>0.566992416097</th>\n",
       "      <th>0.84059391133</th>\n",
       "      <th>-1.0</th>\n",
       "    </tr>\n",
       "  </thead>\n",
       "  <tbody>\n",
       "    <tr>\n",
       "      <th>0</th>\n",
       "      <td>0.297289</td>\n",
       "      <td>0.791696</td>\n",
       "      <td>-1.0</td>\n",
       "    </tr>\n",
       "    <tr>\n",
       "      <th>1</th>\n",
       "      <td>1.030462</td>\n",
       "      <td>0.429955</td>\n",
       "      <td>1.0</td>\n",
       "    </tr>\n",
       "    <tr>\n",
       "      <th>2</th>\n",
       "      <td>0.311769</td>\n",
       "      <td>0.867175</td>\n",
       "      <td>-1.0</td>\n",
       "    </tr>\n",
       "    <tr>\n",
       "      <th>3</th>\n",
       "      <td>0.883618</td>\n",
       "      <td>0.397090</td>\n",
       "      <td>1.0</td>\n",
       "    </tr>\n",
       "    <tr>\n",
       "      <th>4</th>\n",
       "      <td>0.362195</td>\n",
       "      <td>0.880017</td>\n",
       "      <td>1.0</td>\n",
       "    </tr>\n",
       "  </tbody>\n",
       "</table>\n",
       "</div>"
      ],
      "text/plain": [
       "   0.566992416097  0.84059391133  -1.0\n",
       "0        0.297289       0.791696  -1.0\n",
       "1        1.030462       0.429955   1.0\n",
       "2        0.311769       0.867175  -1.0\n",
       "3        0.883618       0.397090   1.0\n",
       "4        0.362195       0.880017   1.0"
      ]
     },
     "execution_count": 2,
     "metadata": {},
     "output_type": "execute_result"
    }
   ],
   "source": [
    "# Load dataset\n",
    "# Read in the csv\n",
    "df_train=pd.read_csv('camel_train.csv', encoding='utf-8')\n",
    "df_test = pd.read_csv('camel_test.csv', encoding='utf-8')\n",
    "# Difference between white rating and black rating - independent variable\n",
    "df_train.head()"
   ]
  },
  {
   "cell_type": "code",
   "execution_count": 3,
   "metadata": {
    "executionInfo": {
     "elapsed": 12,
     "status": "aborted",
     "timestamp": 1643410495539,
     "user": {
      "displayName": "Jingyuan Li",
      "photoUrl": "https://lh3.googleusercontent.com/a/default-user=s64",
      "userId": "02077201049751083691"
     },
     "user_tz": 480
    },
    "id": "eJQajKqSYKY6"
   },
   "outputs": [
    {
     "name": "stdout",
     "output_type": "stream",
     "text": [
      "<class 'pandas.core.frame.DataFrame'>\n",
      "RangeIndex: 99 entries, 0 to 98\n",
      "Data columns (total 3 columns):\n",
      " #   Column          Non-Null Count  Dtype  \n",
      "---  ------          --------------  -----  \n",
      " 0   0.566992416097  99 non-null     float64\n",
      " 1   0.84059391133   99 non-null     float64\n",
      " 2   -1.0            99 non-null     float64\n",
      "dtypes: float64(3)\n",
      "memory usage: 2.4 KB\n"
     ]
    }
   ],
   "source": [
    "df_train.info()"
   ]
  },
  {
   "cell_type": "code",
   "execution_count": 4,
   "metadata": {
    "executionInfo": {
     "elapsed": 13,
     "status": "aborted",
     "timestamp": 1643410495540,
     "user": {
      "displayName": "Jingyuan Li",
      "photoUrl": "https://lh3.googleusercontent.com/a/default-user=s64",
      "userId": "02077201049751083691"
     },
     "user_tz": 480
    },
    "id": "MFcJn7LHYtfN"
   },
   "outputs": [
    {
     "data": {
      "text/html": [
       "<div>\n",
       "<style scoped>\n",
       "    .dataframe tbody tr th:only-of-type {\n",
       "        vertical-align: middle;\n",
       "    }\n",
       "\n",
       "    .dataframe tbody tr th {\n",
       "        vertical-align: top;\n",
       "    }\n",
       "\n",
       "    .dataframe thead th {\n",
       "        text-align: right;\n",
       "    }\n",
       "</style>\n",
       "<table border=\"1\" class=\"dataframe\">\n",
       "  <thead>\n",
       "    <tr style=\"text-align: right;\">\n",
       "      <th></th>\n",
       "      <th>0.566992416097</th>\n",
       "      <th>0.84059391133</th>\n",
       "      <th>-1.0</th>\n",
       "    </tr>\n",
       "  </thead>\n",
       "  <tbody>\n",
       "    <tr>\n",
       "      <th>count</th>\n",
       "      <td>99.000000</td>\n",
       "      <td>99.000000</td>\n",
       "      <td>99.000000</td>\n",
       "    </tr>\n",
       "    <tr>\n",
       "      <th>mean</th>\n",
       "      <td>0.482068</td>\n",
       "      <td>0.694767</td>\n",
       "      <td>0.212121</td>\n",
       "    </tr>\n",
       "    <tr>\n",
       "      <th>std</th>\n",
       "      <td>0.277511</td>\n",
       "      <td>0.168909</td>\n",
       "      <td>0.982217</td>\n",
       "    </tr>\n",
       "    <tr>\n",
       "      <th>min</th>\n",
       "      <td>0.019830</td>\n",
       "      <td>0.363592</td>\n",
       "      <td>-1.000000</td>\n",
       "    </tr>\n",
       "    <tr>\n",
       "      <th>25%</th>\n",
       "      <td>0.230922</td>\n",
       "      <td>0.570406</td>\n",
       "      <td>-1.000000</td>\n",
       "    </tr>\n",
       "    <tr>\n",
       "      <th>50%</th>\n",
       "      <td>0.467246</td>\n",
       "      <td>0.691494</td>\n",
       "      <td>1.000000</td>\n",
       "    </tr>\n",
       "    <tr>\n",
       "      <th>75%</th>\n",
       "      <td>0.682227</td>\n",
       "      <td>0.848954</td>\n",
       "      <td>1.000000</td>\n",
       "    </tr>\n",
       "    <tr>\n",
       "      <th>max</th>\n",
       "      <td>1.041663</td>\n",
       "      <td>0.979701</td>\n",
       "      <td>1.000000</td>\n",
       "    </tr>\n",
       "  </tbody>\n",
       "</table>\n",
       "</div>"
      ],
      "text/plain": [
       "       0.566992416097  0.84059391133       -1.0\n",
       "count       99.000000      99.000000  99.000000\n",
       "mean         0.482068       0.694767   0.212121\n",
       "std          0.277511       0.168909   0.982217\n",
       "min          0.019830       0.363592  -1.000000\n",
       "25%          0.230922       0.570406  -1.000000\n",
       "50%          0.467246       0.691494   1.000000\n",
       "75%          0.682227       0.848954   1.000000\n",
       "max          1.041663       0.979701   1.000000"
      ]
     },
     "execution_count": 4,
     "metadata": {},
     "output_type": "execute_result"
    }
   ],
   "source": [
    "df_train.describe()"
   ]
  },
  {
   "cell_type": "code",
   "execution_count": 5,
   "metadata": {
    "executionInfo": {
     "elapsed": 13,
     "status": "aborted",
     "timestamp": 1643410495541,
     "user": {
      "displayName": "Jingyuan Li",
      "photoUrl": "https://lh3.googleusercontent.com/a/default-user=s64",
      "userId": "02077201049751083691"
     },
     "user_tz": 480
    },
    "id": "G9ljtZ7GLK44"
   },
   "outputs": [],
   "source": [
    "# Select rating difference and turns as feature to predict the label\n",
    "# training set\n",
    "x_train = df_train.iloc[:, [0,1]].to_numpy()\n",
    "y_train = df_train.iloc[:, 2].to_numpy()\n",
    "\n",
    "# testing set\n",
    "x_test = df_test.iloc[:, [0,1]].to_numpy()\n",
    "y_test = df_test.iloc[:, 2].to_numpy()\n"
   ]
  },
  {
   "cell_type": "code",
   "execution_count": 6,
   "metadata": {
    "executionInfo": {
     "elapsed": 14,
     "status": "aborted",
     "timestamp": 1643410495542,
     "user": {
      "displayName": "Jingyuan Li",
      "photoUrl": "https://lh3.googleusercontent.com/a/default-user=s64",
      "userId": "02077201049751083691"
     },
     "user_tz": 480
    },
    "id": "J9o_-jt4nT7X"
   },
   "outputs": [
    {
     "name": "stdout",
     "output_type": "stream",
     "text": [
      "blue: label -1\n",
      "red : label 1\n"
     ]
    },
    {
     "data": {
      "image/png": "[encoded data removed]",
      "text/plain": [
       "<Figure size 432x288 with 1 Axes>"
      ]
     },
     "metadata": {
      "needs_background": "light"
     },
     "output_type": "display_data"
    },
    {
     "name": "stdout",
     "output_type": "stream",
     "text": [
      "Problem 4(a)\n",
      "Q) which classifier you think will be most suitable for the dataset?\n",
      "--> I think Gaussian kernel SVM would be the most suitable for the dataset because label '-1' is centered in the dataset which looks like Gaussian distribution. Other linear model would have a lot of mis-classified training data\n"
     ]
    }
   ],
   "source": [
    "#@title Sec 1.1\n",
    "# visualize training set in 2D space\n",
    "# TODO\n",
    "print(\"blue: label -1\")\n",
    "print(\"red : label 1\")\n",
    "r1 = np.where(y_train == -1)\n",
    "r2 = np.where(y_train == 1)\n",
    "plt.plot(x_train[r1, 0], x_train[r1, 1], 'o', color='blue'); # -1 class\n",
    "plt.plot(x_train[r2, 0], x_train[r2, 1], 'o', color='red'); # 1 class\n",
    "plt.xlabel(\"X0\")\n",
    "plt.ylabel(\"X1\");\n",
    "plt.show()\n",
    "\n",
    "print(\"Problem 4(a)\")\n",
    "print(\"Q) which classifier you think will be most suitable for the dataset?\")\n",
    "print(\"--> I think Gaussian kernel SVM would be the most suitable for the dataset \\\n",
    "because label '-1' is centered in the dataset which looks like Gaussian distribution. \\\n",
    "Other linear model would have a lot of mis-classified training data\")"
   ]
  },
  {
   "cell_type": "code",
   "execution_count": 15,
   "metadata": {
    "executionInfo": {
     "elapsed": 14,
     "status": "aborted",
     "timestamp": 1643410495543,
     "user": {
      "displayName": "Jingyuan Li",
      "photoUrl": "https://lh3.googleusercontent.com/a/default-user=s64",
      "userId": "02077201049751083691"
     },
     "user_tz": 480
    },
    "id": "CbB7AyLGvvkr"
   },
   "outputs": [
    {
     "name": "stdout",
     "output_type": "stream",
     "text": [
      "Problem 4(b) - implementation\n"
     ]
    }
   ],
   "source": [
    "#@title Sec 1.2\n",
    "print(\"Problem 4(b) - implementation\")\n",
    "# Train logistic regression and print accuracy\n",
    "from sklearn.linear_model import LogisticRegression\n",
    "from sklearn import svm\n",
    "from sklearn.metrics import accuracy_score\n",
    "# define training procedure for logistic regression and svm\n",
    "def training(x_train, y_train, x_test, y_test, model_type = 'logistic', kernel=None):\n",
    "    # specify the model used to learn by model_type\n",
    "    # model_type == 'logistic' -> using logistic regression model\n",
    "    if (model_type is 'logistic'):\n",
    "        model = LogisticRegression().fit(x_train, y_train)\n",
    "    # model_type == 'svm' --> using SVM model\n",
    "    if (model_type is 'svm'):\n",
    "        if (kernel is None): # kernel == None  --> using linear kenel for SVM\n",
    "            model = svm.SVC(kernel=\"linear\").fit(x_train, y_train)\n",
    "        elif (kernel is 'rbf'): # kernel == 'rbf' --> using gaussian kernel for SVM\n",
    "            model = svm.SVC(kernel=\"rbf\").fit(x_train, y_train)\n",
    "    # define models\n",
    "    # TODO\n",
    "    pred_train = model.predict(x_train)\n",
    "    pred_test = model.predict(x_test)\n",
    "    acc_train = accuracy_score(y_train, pred_train)\n",
    "    acc_test = accuracy_score(y_test, pred_test)\n",
    "    return model, acc_train, acc_test"
   ]
  },
  {
   "cell_type": "code",
   "execution_count": 16,
   "metadata": {
    "executionInfo": {
     "elapsed": 15,
     "status": "aborted",
     "timestamp": 1643410495544,
     "user": {
      "displayName": "Jingyuan Li",
      "photoUrl": "https://lh3.googleusercontent.com/a/default-user=s64",
      "userId": "02077201049751083691"
     },
     "user_tz": 480
    },
    "id": "iYQvIzom44dQ"
   },
   "outputs": [
    {
     "name": "stdout",
     "output_type": "stream",
     "text": [
      "\n",
      "Problem 4(c)\n",
      "logistic regression\n",
      "  --> accuracy_train: 0.5555555555555556, accuracy_test: 0.531328320802005 \n",
      "linear SVM\n",
      "  --> accuracy_train: 0.6060606060606061, accuracy_test: 0.5639097744360902 \n",
      "Gaussian kernel SVM\n",
      "  --> accuracy_train: 0.8585858585858586, accuracy_test: 0.7192982456140351 \n",
      "Q) explain why one method is superior to the others\n",
      " --> Gaussian kernel SVM gives the best accuracy because dataset looks like kernel and linearly inseperable.'1' labels are surround to '-1' labels which are centered in the middle.\n"
     ]
    }
   ],
   "source": [
    "#@title Sec 1.3\n",
    "# train logistic regression\n",
    "# TODO\n",
    "print(\"\\nProblem 4(c)\")\n",
    "model_LR, acc_train, acc_test = training(x_train, y_train, x_test, y_test, model_type='logistic', kernel=None)  \n",
    "print(\"logistic regression\\n  --> accuracy_train: {}, accuracy_test: {} \".format(acc_train, acc_test))\n",
    "\n",
    "# train linear SVM\n",
    "# TODO\n",
    "model_SVM, acc_train, acc_test = training(x_train, y_train, x_test, y_test, model_type='svm', kernel=None)  \n",
    "print(\"linear SVM\\n  --> accuracy_train: {}, accuracy_test: {} \".format(acc_train, acc_test))\n",
    "\n",
    "# train Gaussian SVM\n",
    "# TODO\n",
    "model_K_SVM, acc_train, acc_test = training(x_train, y_train, x_test, y_test, model_type='svm', kernel=\"rbf\")  \n",
    "print(\"Gaussian kernel SVM\\n  --> accuracy_train: {}, accuracy_test: {} \".format(acc_train, acc_test))\n",
    "\n",
    "print(\"Q) explain why one method is superior to the others\")\n",
    "print(\" --> Gaussian kernel SVM gives the best accuracy because dataset looks like kernel and linearly inseperable.\\\n",
    "'1' labels are surround to '-1' labels which are centered in the middle.\")\n"
   ]
  },
  {
   "cell_type": "code",
   "execution_count": 17,
   "metadata": {},
   "outputs": [
    {
     "name": "stdout",
     "output_type": "stream",
     "text": [
      "Problem 4(d)\n",
      "Q) Discuss how the decision boundary of each model looks like in 2D space and why.\n",
      "\n",
      "logistic regression: The boundary would be linear because it's default model and I didn't change features or parameters to make them non-linear.\n",
      "\n",
      "linear SVM: Since it is linear SVM, the boundary would be linear.\n",
      "\n",
      "Gaussian kernel SVM: It will have boundary looks like ellipsis or cirlce because Gaussian kernel separates center and outside of kernel \n"
     ]
    }
   ],
   "source": [
    "print(\"Problem 4(d)\")\n",
    "print(\"Q) Discuss how the decision boundary of each model looks like in 2D space and why.\")\n",
    "print(\"\\nlogistic regression: The boundary would be linear because it's default model and I didn't change features or parameters to make them non-linear.\")\n",
    "print(\"\\nlinear SVM: Since it is linear SVM, the boundary would be linear.\")\n",
    "print(\"\\nGaussian kernel SVM: It will have boundary looks like ellipsis or cirlce because Gaussian kernel separates center and outside of kernel \")\n"
   ]
  },
  {
   "cell_type": "code",
   "execution_count": 18,
   "metadata": {
    "executionInfo": {
     "elapsed": 15,
     "status": "aborted",
     "timestamp": 1643410495545,
     "user": {
      "displayName": "Jingyuan Li",
      "photoUrl": "https://lh3.googleusercontent.com/a/default-user=s64",
      "userId": "02077201049751083691"
     },
     "user_tz": 480
    },
    "id": "fDVu1shhaQKZ"
   },
   "outputs": [],
   "source": [
    "from itertools import product\n",
    "# Sec 1.4 plot decision boundary for learned models\n",
    "class_colors = {-1: 'b', 1: 'r'}    \n",
    "def plot_decision_boundary(model, x, y, title='', output_path=None,\n",
    "        file_name=None, class_colors={-1: 'b', 1: 'r'}, model_type= 'svm' ):\n",
    "    colors = y > 0 if class_colors is None else [class_colors[c] for c in y]\n",
    "    fig = plt.figure()\n",
    "    plt.scatter(x[:, 0], x[:, 1], c=colors)\n",
    "\n",
    "    ax = plt.gca()\n",
    "    xlim = ax.get_xlim()\n",
    "    ylim = ax.get_ylim()\n",
    "\n",
    "    xx = np.linspace(xlim[0], xlim[1], 100)\n",
    "    yy = np.linspace(ylim[0], ylim[1], 100)\n",
    "    YY, XX = np.meshgrid(yy, xx)\n",
    "    xy = np.vstack([XX.ravel(), YY.ravel()]).T\n",
    "\n",
    "    # TODO\n",
    "    Z = model.predict(np.c_[XX.ravel(), YY.ravel()])\n",
    "    Z = Z.reshape(XX.shape)\n",
    "    plt.contourf(XX, YY, Z, alpha=0.4)\n",
    "    #plt.scatter(x[:, 0], x[:, 1], c=y, s=20, edgecolor=\"k\")\n",
    "\n",
    "    plt.title(title)\n",
    "    plt.show()\n",
    "    if output_path is not None and file_name is not None:\n",
    "        fig.savefig(os.path.join(output_path, file_name))"
   ]
  },
  {
   "cell_type": "code",
   "execution_count": 19,
   "metadata": {
    "executionInfo": {
     "elapsed": 164,
     "status": "aborted",
     "timestamp": 1643410495694,
     "user": {
      "displayName": "Jingyuan Li",
      "photoUrl": "https://lh3.googleusercontent.com/a/default-user=s64",
      "userId": "02077201049751083691"
     },
     "user_tz": 480
    },
    "id": "h5FW1wZjpc7s"
   },
   "outputs": [
    {
     "name": "stdout",
     "output_type": "stream",
     "text": [
      "Problem 4(e)\n"
     ]
    },
    {
     "data": {
      "image/png": "[encoded data removed]",
      "text/plain": [
       "<Figure size 432x288 with 1 Axes>"
      ]
     },
     "metadata": {
      "needs_background": "light"
     },
     "output_type": "display_data"
    }
   ],
   "source": [
    "# plot decision boundary for logistic regression\n",
    "# TODO\n",
    "print(\"Problem 4(e)\")\n",
    "plot_decision_boundary(model_LR, x_train, y_train, title=\"logistic regression\", model_type='logistic')\n",
    "\n"
   ]
  },
  {
   "cell_type": "code",
   "execution_count": 20,
   "metadata": {
    "executionInfo": {
     "elapsed": 164,
     "status": "aborted",
     "timestamp": 1643410495695,
     "user": {
      "displayName": "Jingyuan Li",
      "photoUrl": "https://lh3.googleusercontent.com/a/default-user=s64",
      "userId": "02077201049751083691"
     },
     "user_tz": 480
    },
    "id": "v7WO6ZHhqTkx"
   },
   "outputs": [
    {
     "data": {
      "image/png": "[encoded data removed]",
      "text/plain": [
       "<Figure size 432x288 with 1 Axes>"
      ]
     },
     "metadata": {
      "needs_background": "light"
     },
     "output_type": "display_data"
    }
   ],
   "source": [
    "# plot decision boundary for linear svm\n",
    "# TODO\n",
    "plot_decision_boundary(model_SVM, x_train, y_train, title=\"Linear SVM\", model_type='svm')\n"
   ]
  },
  {
   "cell_type": "code",
   "execution_count": 21,
   "metadata": {
    "executionInfo": {
     "elapsed": 4,
     "status": "aborted",
     "timestamp": 1643410495696,
     "user": {
      "displayName": "Jingyuan Li",
      "photoUrl": "https://lh3.googleusercontent.com/a/default-user=s64",
      "userId": "02077201049751083691"
     },
     "user_tz": 480
    },
    "id": "2WmsSD5hqrV2"
   },
   "outputs": [
    {
     "data": {
      "image/png": "[encoded data removed]",
      "text/plain": [
       "<Figure size 432x288 with 1 Axes>"
      ]
     },
     "metadata": {
      "needs_background": "light"
     },
     "output_type": "display_data"
    }
   ],
   "source": [
    "# plot decision boundary for linear svm\n",
    "# TODO\n",
    "plot_decision_boundary(model_K_SVM, x_train, y_train, title=\"Gaussian Kernel SVM\", model_type='rbf')\n",
    "\n"
   ]
  },
  {
   "cell_type": "code",
   "execution_count": 22,
   "metadata": {},
   "outputs": [
    {
     "name": "stdout",
     "output_type": "stream",
     "text": [
      "Q) Do they follow your assumptions and guesses above?\n",
      "--> Yes\n",
      "Q) critically what you learned from this experiment?\n",
      "--> If we choose incorrect model, we get poor accuracy. In this example, I learned that I should not fit the linearly not sperated dataset to linear model and selecting correct model is veray important\n"
     ]
    }
   ],
   "source": [
    "print(\"Q) Do they follow your assumptions and guesses above?\")\n",
    "print(\"--> Yes\")\n",
    "print(\"Q) critically what you learned from this experiment?\")\n",
    "print(\"--> If we choose incorrect model, we get poor accuracy. \\\n",
    "In this example, I learned that I should not fit the linearly not sperated dataset to linear model \\\n",
    "and selecting correct model is veray important\")\n",
    "\n"
   ]
  },
  {
   "cell_type": "code",
   "execution_count": null,
   "metadata": {},
   "outputs": [],
   "source": []
  }
 ],
 "metadata": {
  "colab": {
   "authorship_tag": "ABX9TyPo7NEZHrxcouapxNGhAeQf",
   "name": "logistic_svm_comparison.ipynb",
   "provenance": [
    {
     "file_id": "1KsHq2rtKtgtshJs-nMxigZQqWyh2226H",
     "timestamp": 1643410467644
    }
   ]
  },
  "kernelspec": {
   "display_name": "Python 3 (ipykernel)",
   "language": "python",
   "name": "python3"
  },
  "language_info": {
   "codemirror_mode": {
    "name": "ipython",
    "version": 3
   },
   "file_extension": ".py",
   "mimetype": "text/x-python",
   "name": "python",
   "nbconvert_exporter": "python",
   "pygments_lexer": "ipython3",
   "version": "3.7.11"
  }
 },
 "nbformat": 4,
 "nbformat_minor": 1
}
